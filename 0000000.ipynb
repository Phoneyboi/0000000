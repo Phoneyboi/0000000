{
 "cells": [
  {
   "cell_type": "markdown",
   "id": "7b8e6d07",
   "metadata": {},
   "source": [
    "# Sphere"
   ]
  },
  {
   "attachments": {
    "sphere.png": {
     "image/png": "[encoded data removed]"
    }
   },
   "cell_type": "markdown",
   "id": "3d9eeb24",
   "metadata": {},
   "source": [
    "![sphere.png](attachment:sphere.png)"
   ]
  },
  {
   "cell_type": "code",
   "execution_count": 71,
   "id": "92d90e4a",
   "metadata": {},
   "outputs": [],
   "source": [
    "sphere_radius = 2"
   ]
  },
  {
   "cell_type": "markdown",
   "id": "b0e87882",
   "metadata": {},
   "source": [
    "---"
   ]
  },
  {
   "cell_type": "markdown",
   "id": "4475e64a",
   "metadata": {},
   "source": [
    "# Rectangular Prism"
   ]
  },
  {
   "attachments": {
    "rec_prism.png": {
     "image/png": "[encoded data removed]"
    }
   },
   "cell_type": "markdown",
   "id": "203aa689",
   "metadata": {},
   "source": [
    "![rec_prism.png](attachment:rec_prism.png)"
   ]
  },
  {
   "cell_type": "code",
   "execution_count": 72,
   "id": "e6db5487",
   "metadata": {},
   "outputs": [],
   "source": [
    "prism_length = 5\n",
    "prism_width = 2\n",
    "prism_height = 10"
   ]
  },
  {
   "cell_type": "markdown",
   "id": "65fb145b",
   "metadata": {},
   "source": [
    "---"
   ]
  },
  {
   "cell_type": "markdown",
   "id": "67e8120b",
   "metadata": {},
   "source": [
    "# Pyramid"
   ]
  },
  {
   "attachments": {
    "pyramid.jpg": {
     "image/jpeg": "[encoded data removed]"
    }
   },
   "cell_type": "markdown",
   "id": "5eb79110",
   "metadata": {},
   "source": [
    "![pyramid.jpg](attachment:pyramid.jpg)"
   ]
  },
  {
   "cell_type": "code",
   "execution_count": 73,
   "id": "2b0a8add",
   "metadata": {},
   "outputs": [],
   "source": [
    "pyramid_length = 3\n",
    "pyramid_width = 2\n",
    "pyramid_height = 8"
   ]
  },
  {
   "cell_type": "markdown",
   "id": "e227ca15",
   "metadata": {},
   "source": [
    "## Add variables to .txt file for Solidworks"
   ]
  },
  {
   "cell_type": "code",
   "execution_count": 74,
   "id": "83275328",
   "metadata": {},
   "outputs": [],
   "source": [
    "# Open the text file in write mode and write the dimensions\n",
    "with open('pipeline.txt', 'w') as file:\n",
    "    # Sphere\n",
    "    file.write(f'\"sphere_radius\" = {sphere_radius}\\n')\n",
    "    # Rectangular Prism\n",
    "    file.write(f'\"prism_length\" = {prism_length}\\n')\n",
    "    file.write(f'\"prism_width\" = {prism_width}\\n')\n",
    "    file.write(f'\"prism_height\" = {prism_height}\\n')\n",
    "    # Pyramid\n",
    "    file.write(f'\"pyramid_length\" = {pyramid_length}\\n')\n",
    "    file.write(f'\"pyramid_width\" = {pyramid_width}\\n')\n",
    "    file.write(f'\"pyramid_height\" = {pyramid_height}\\n')"
   ]
  },
  {
   "cell_type": "markdown",
   "id": "ef4eb6ec",
   "metadata": {},
   "source": [
    "# Rebuild Solidworks File"
   ]
  },
  {
   "cell_type": "code",
   "execution_count": 75,
   "id": "64f0a6c5",
   "metadata": {},
   "outputs": [],
   "source": [
    "import win32com.client"
   ]
  },
  {
   "cell_type": "code",
   "execution_count": 76,
   "id": "c8b349fd",
   "metadata": {},
   "outputs": [
    {
     "name": "stdout",
     "output_type": "stream",
     "text": [
      "Connected to SolidWorks\n",
      "SolidWorks Version: 30.5.0\n",
      "Number of Open Documents: 1\n"
     ]
    }
   ],
   "source": [
    "try:\n",
    "    sw = win32com.client.Dispatch(\"SldWorks.Application\")\n",
    "    print(\"Connected to SolidWorks\")\n",
    "    print(\"SolidWorks Version:\", sw.RevisionNumber)  # Access as property\n",
    "    print(\"Number of Open Documents:\", sw.GetDocumentCount)  # Access as property\n",
    "except Exception as e:\n",
    "    print(\"Error:\", e)"
   ]
  },
  {
   "cell_type": "code",
   "execution_count": 77,
   "id": "37715ed8",
   "metadata": {},
   "outputs": [],
   "source": [
    "def rebuild_active_document():\n",
    "    swApp = win32com.client.Dispatch(\"SldWorks.Application\")\n",
    "\n",
    "    # Get the active document\n",
    "    activeDoc = swApp.ActiveDoc\n",
    "\n",
    "    if activeDoc is not None:\n",
    "        # Force rebuild the active document\n",
    "        rebuildStatus = activeDoc.ForceRebuild3(False)\n",
    "        if rebuildStatus:\n",
    "            print(\"Active document has been rebuilt.\")\n",
    "        else:\n",
    "            print(\"Failed to rebuild the active document.\")\n",
    "    else:\n",
    "        print(\"No active document found.\")"
   ]
  },
  {
   "cell_type": "code",
   "execution_count": 78,
   "id": "6914df11",
   "metadata": {},
   "outputs": [
    {
     "name": "stdout",
     "output_type": "stream",
     "text": [
      "Active document has been rebuilt.\n"
     ]
    }
   ],
   "source": [
    "rebuild_active_document()"
   ]
  }
 ],
 "metadata": {
  "kernelspec": {
   "display_name": "Python 3 (ipykernel)",
   "language": "python",
   "name": "python3"
  },
  "language_info": {
   "codemirror_mode": {
    "name": "ipython",
    "version": 3
   },
   "file_extension": ".py",
   "mimetype": "text/x-python",
   "name": "python",
   "nbconvert_exporter": "python",
   "pygments_lexer": "ipython3",
   "version": "3.9.18"
  }
 },
 "nbformat": 4,
 "nbformat_minor": 5
}
