{
 "cells": [
  {
   "cell_type": "markdown",
   "id": "7ee914cf",
   "metadata": {},
   "source": [
    "# Rebuild Solidworks File"
   ]
  },
  {
   "cell_type": "code",
   "execution_count": null,
   "id": "5a1420fe",
   "metadata": {},
   "outputs": [],
   "source": [
    "import win32com.client"
   ]
  },
  {
   "cell_type": "code",
   "execution_count": null,
   "id": "e7437d35",
   "metadata": {},
   "outputs": [],
   "source": [
    "try:\n",
    "    sw = win32com.client.Dispatch(\"SldWorks.Application\")\n",
    "    print(\"Connected to SolidWorks\")\n",
    "    print(\"SolidWorks Version:\", sw.RevisionNumber)  # Access as property\n",
    "    print(\"Number of Open Documents:\", sw.GetDocumentCount)  # Access as property\n",
    "except Exception as e:\n",
    "    print(\"Error:\", e)"
   ]
  },
  {
   "cell_type": "code",
   "execution_count": null,
   "id": "6e5c0a24",
   "metadata": {},
   "outputs": [],
   "source": [
    "def rebuild_active_document():\n",
    "    swApp = win32com.client.Dispatch(\"SldWorks.Application\")\n",
    "\n",
    "    # Get the active document\n",
    "    activeDoc = swApp.ActiveDoc\n",
    "\n",
    "    if activeDoc is not None:\n",
    "        # Force rebuild the active document\n",
    "        rebuildStatus = activeDoc.ForceRebuild3(False)\n",
    "        if rebuildStatus:\n",
    "            print(\"Active document has been rebuilt.\")\n",
    "        else:\n",
    "            print(\"Failed to rebuild the active document.\")\n",
    "    else:\n",
    "        print(\"No active document found.\")"
   ]
  },
  {
   "cell_type": "code",
   "execution_count": null,
   "id": "04c1034b",
   "metadata": {},
   "outputs": [],
   "source": [
    "rebuild_active_document()"
   ]
  }
 ],
 "metadata": {
  "kernelspec": {
   "display_name": "Python 3 (ipykernel)",
   "language": "python",
   "name": "python3"
  },
  "language_info": {
   "codemirror_mode": {
    "name": "ipython",
    "version": 3
   },
   "file_extension": ".py",
   "mimetype": "text/x-python",
   "name": "python",
   "nbconvert_exporter": "python",
   "pygments_lexer": "ipython3",
   "version": "3.9.18"
  }
 },
 "nbformat": 4,
 "nbformat_minor": 5
}
